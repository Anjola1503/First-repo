{
 "cells": [
  {
   "cell_type": "markdown",
   "id": "33d529be",
   "metadata": {},
   "source": [
    "### Exercise 4"
   ]
  },
  {
   "cell_type": "markdown",
   "id": "930399ad",
   "metadata": {},
   "source": [
    "Ali & Johnson is an online store that offers a range of products to their customers, you are recently employed as their data guy and your first task is to make the most frequently purchased products organized so that customers can access the products easily. The task is broken down below.\n",
    "1. Using Python dictionary, create five product categories with each category having five products listed under them. The product categories are `Fashion (footwear, eyewear, bags, jewelry, accessories), Electronics (TV, iron, refrigerator, mixer grinder, washing machine), Health & Wellness (Yoga pants, oil diffuser, razor, reset spray, thermometer), Computer & Accessories (PC, monitor, keyboard, headset, mouse), and Furniture (table, armchair, chair, couch, bed frame).`\n",
    "2. Recently, the store observed a zero demand for reset spray, you are asked to remove this product from the store so that they can stock up other.\n",
    "3. The customer care line recieved multiple complaints from the users recently stating that razor blade is not available on the website anytime they attempt to search for it to purchase, it happens that this is represented as just 'razor' in the store, update the data by replacing 'razor' with 'facial razor'.\n",
    "4. Due to the recent surge in demand for certain products in Electronics & Fashion categories, the store would like you to add three new products to these two categories."
   ]
  },
  {
   "cell_type": "code",
   "execution_count": 12,
   "id": "71fd7f02",
   "metadata": {},
   "outputs": [],
   "source": [
    "products= {\n",
    "    'Fashion':['footwear', 'eyewear','bags','jewelry','accessories'],\n",
    "    'Electronics':['TV','iron','refrigirator','grinder','charger',],\n",
    "    'Health and wellness':['Yoga pants', 'oil diffuser', 'razor','reset spray','thermometer'],\n",
    "    'Computer ans accessories':['Keyboard','Headset','mouse','Laptop','scanner'],\n",
    "    'Furniture':['table','armchair','chair','couch','bed frame']\n",
    "}"
   ]
  },
  {
   "cell_type": "code",
   "execution_count": 2,
   "id": "d22e9b1c",
   "metadata": {},
   "outputs": [
    {
     "ename": "NameError",
     "evalue": "name 'products' is not defined",
     "output_type": "error",
     "traceback": [
      "\u001b[1;31m---------------------------------------------------------------------------\u001b[0m",
      "\u001b[1;31mNameError\u001b[0m                                 Traceback (most recent call last)",
      "Input \u001b[1;32mIn [2]\u001b[0m, in \u001b[0;36m<cell line: 3>\u001b[1;34m()\u001b[0m\n\u001b[0;32m      1\u001b[0m \u001b[38;5;66;03m# remove 'reset spray' using del by specifying the index\u001b[39;00m\n\u001b[1;32m----> 3\u001b[0m \u001b[38;5;28;01mdel\u001b[39;00m \u001b[43mproducts\u001b[49m[\u001b[38;5;124m'\u001b[39m\u001b[38;5;124mHealth and wellness\u001b[39m\u001b[38;5;124m'\u001b[39m][\u001b[38;5;241m3\u001b[39m]\n",
      "\u001b[1;31mNameError\u001b[0m: name 'products' is not defined"
     ]
    }
   ],
   "source": [
    "# remove 'reset spray' using del by specifying the index\n",
    "\n",
    "del products['Health and wellness'][3]"
   ]
  },
  {
   "cell_type": "code",
   "execution_count": 24,
   "id": "412842d8",
   "metadata": {},
   "outputs": [
    {
     "name": "stdout",
     "output_type": "stream",
     "text": [
      "Fashion --> ['footwear', 'eyewear', 'bags', 'jewelry', 'accessories', 'crocs', 'Gucci bag', 'Rolex']\n",
      "Electronics --> ['TV', 'iron', 'refrigirator', 'grinder', 'charger', 'boilling ring', 'room heater', 'Electric stove']\n",
      "Health and wellness --> ['Yoga pants', 'oil diffuser', 'facial razor', 'thermometer']\n",
      "Computer ans accessories --> ['Keyboard', 'Headset', 'Laptop', 'scanner']\n",
      "Furniture --> ['table', 'armchair', 'chair', 'couch', 'bed frame']\n"
     ]
    }
   ],
   "source": [
    "# let's see what's left here\n",
    "\n",
    "for key, value in products.items():\n",
    "    print(key, \"-->\", value)"
   ]
  },
  {
   "cell_type": "code",
   "execution_count": 15,
   "id": "8527415b",
   "metadata": {},
   "outputs": [],
   "source": [
    "# another way of removing a specific value\n",
    "# remove mouse from computer and accessories\n",
    "\n",
    "for cat, prods in products.items():\n",
    "    for product in prods:\n",
    "        if product == \"mouse\":\n",
    "            prods.remove(product)"
   ]
  },
  {
   "cell_type": "code",
   "execution_count": 16,
   "id": "45c1e6a4",
   "metadata": {},
   "outputs": [
    {
     "name": "stdout",
     "output_type": "stream",
     "text": [
      "Fashion --> ['footwear', 'eyewear', 'bags', 'jewelry', 'accessories']\n",
      "Electronics --> ['TV', 'iron', 'refrigirator', 'grinder', 'charger']\n",
      "Health and wellness --> ['Yoga pants', 'oil diffuser', 'razor', 'thermometer']\n",
      "Computer ans accessories --> ['Keyboard', 'Headset', 'Laptop', 'scanner']\n",
      "Furniture --> ['table', 'armchair', 'chair', 'couch', 'bed frame']\n"
     ]
    }
   ],
   "source": [
    "for key, value in products.items():\n",
    "    print(key, \"-->\", value)"
   ]
  },
  {
   "cell_type": "code",
   "execution_count": 17,
   "id": "8d0dfef5",
   "metadata": {},
   "outputs": [],
   "source": [
    "# replace razor with facial razor\n",
    "products[\"Health and wellness\"][2] = 'facial razor'"
   ]
  },
  {
   "cell_type": "code",
   "execution_count": 18,
   "id": "a14edba0",
   "metadata": {},
   "outputs": [
    {
     "name": "stdout",
     "output_type": "stream",
     "text": [
      "Fashion --> ['footwear', 'eyewear', 'bags', 'jewelry', 'accessories']\n",
      "Electronics --> ['TV', 'iron', 'refrigirator', 'grinder', 'charger']\n",
      "Health and wellness --> ['Yoga pants', 'oil diffuser', 'facial razor', 'thermometer']\n",
      "Computer ans accessories --> ['Keyboard', 'Headset', 'Laptop', 'scanner']\n",
      "Furniture --> ['table', 'armchair', 'chair', 'couch', 'bed frame']\n"
     ]
    }
   ],
   "source": [
    "for key, value in products.items():\n",
    "    print(key, \"-->\", value)"
   ]
  },
  {
   "cell_type": "code",
   "execution_count": 20,
   "id": "60fbb2ec",
   "metadata": {},
   "outputs": [],
   "source": [
    "products[\"Electronics\"].append(\"boilling ring\")\n",
    "products[\"Electronics\"].append(\"room heater\")\n",
    "products[\"Electronics\"].append(\"Electric stove\")"
   ]
  },
  {
   "cell_type": "code",
   "execution_count": 21,
   "id": "5e710e02",
   "metadata": {},
   "outputs": [
    {
     "name": "stdout",
     "output_type": "stream",
     "text": [
      "Fashion --> ['footwear', 'eyewear', 'bags', 'jewelry', 'accessories']\n",
      "Electronics --> ['TV', 'iron', 'refrigirator', 'grinder', 'charger', 'boilling ring', 'room heater', 'Electric stove']\n",
      "Health and wellness --> ['Yoga pants', 'oil diffuser', 'facial razor', 'thermometer']\n",
      "Computer ans accessories --> ['Keyboard', 'Headset', 'Laptop', 'scanner']\n",
      "Furniture --> ['table', 'armchair', 'chair', 'couch', 'bed frame']\n"
     ]
    }
   ],
   "source": [
    "for key, value in products.items():\n",
    "    print(key, \"-->\", value)"
   ]
  },
  {
   "cell_type": "code",
   "execution_count": 2,
   "id": "0d5dca5f",
   "metadata": {},
   "outputs": [
    {
     "ename": "NameError",
     "evalue": "name 'products' is not defined",
     "output_type": "error",
     "traceback": [
      "\u001b[1;31m---------------------------------------------------------------------------\u001b[0m",
      "\u001b[1;31mNameError\u001b[0m                                 Traceback (most recent call last)",
      "Input \u001b[1;32mIn [2]\u001b[0m, in \u001b[0;36m<cell line: 6>\u001b[1;34m()\u001b[0m\n\u001b[0;32m      1\u001b[0m \u001b[38;5;66;03m# another way is to use the extend method and ass every at once\u001b[39;00m\n\u001b[0;32m      2\u001b[0m \u001b[38;5;66;03m# let's use the fashion for that \u001b[39;00m\n\u001b[0;32m      4\u001b[0m products_to_add \u001b[38;5;241m=\u001b[39m [\u001b[38;5;124m\"\u001b[39m\u001b[38;5;124mcrocs\u001b[39m\u001b[38;5;124m\"\u001b[39m, \u001b[38;5;124m\"\u001b[39m\u001b[38;5;124mGucci bag\u001b[39m\u001b[38;5;124m\"\u001b[39m, \u001b[38;5;124m\"\u001b[39m\u001b[38;5;124mRolex\u001b[39m\u001b[38;5;124m\"\u001b[39m]\n\u001b[1;32m----> 6\u001b[0m \u001b[43mproducts\u001b[49m[\u001b[38;5;124m\"\u001b[39m\u001b[38;5;124mFashion\u001b[39m\u001b[38;5;124m\"\u001b[39m]\u001b[38;5;241m.\u001b[39mextend(products_to_add)\n",
      "\u001b[1;31mNameError\u001b[0m: name 'products' is not defined"
     ]
    }
   ],
   "source": [
    "# another way is to use the extend method and ass every at once\n",
    "# let's use the fashion for that \n",
    "\n",
    "products_to_add = [\"crocs\", \"Gucci bag\", \"Rolex\"]\n",
    "\n",
    "products[\"Fashion\"].extend(products_to_add)"
   ]
  },
  {
   "cell_type": "code",
   "execution_count": 23,
   "id": "e40971c2",
   "metadata": {},
   "outputs": [
    {
     "name": "stdout",
     "output_type": "stream",
     "text": [
      "Fashion --> ['footwear', 'eyewear', 'bags', 'jewelry', 'accessories', 'crocs', 'Gucci bag', 'Rolex']\n",
      "Electronics --> ['TV', 'iron', 'refrigirator', 'grinder', 'charger', 'boilling ring', 'room heater', 'Electric stove']\n",
      "Health and wellness --> ['Yoga pants', 'oil diffuser', 'facial razor', 'thermometer']\n",
      "Computer ans accessories --> ['Keyboard', 'Headset', 'Laptop', 'scanner']\n",
      "Furniture --> ['table', 'armchair', 'chair', 'couch', 'bed frame']\n"
     ]
    }
   ],
   "source": [
    "for key, value in products.items():\n",
    "    print(key, \"-->\", value)"
   ]
  },
  {
   "cell_type": "code",
   "execution_count": null,
   "id": "cd29b74a",
   "metadata": {},
   "outputs": [],
   "source": []
  }
 ],
 "metadata": {
  "kernelspec": {
   "display_name": "Python 3 (ipykernel)",
   "language": "python",
   "name": "python3"
  },
  "language_info": {
   "codemirror_mode": {
    "name": "ipython",
    "version": 3
   },
   "file_extension": ".py",
   "mimetype": "text/x-python",
   "name": "python",
   "nbconvert_exporter": "python",
   "pygments_lexer": "ipython3",
   "version": "3.9.12"
  }
 },
 "nbformat": 4,
 "nbformat_minor": 5
}
