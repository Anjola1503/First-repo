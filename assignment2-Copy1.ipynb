{
 "cells": [
  {
   "cell_type": "code",
   "execution_count": 32,
   "id": "5189cc7c",
   "metadata": {},
   "outputs": [
    {
     "name": "stdout",
     "output_type": "stream",
     "text": [
      "{'Fashion': ['footwear', 'eyewear', 'bags', 'accessories'], 'Electronics': ['television', 'iron', 'refrigerator', 'mixer grinder', 'washing machine'], 'Health and Wellness': ['yoga pants', 'oil diffuser', 'razor', 'reset spray', 'thermometer'], 'Computer and Accessories': ['pc', 'monitor', 'keyboard', 'headset', 'mouse'], 'Funiture': ['table', 'armchair', 'chair', 'couch', 'bed frame']}\n"
     ]
    }
   ],
   "source": [
    "products = {\"Fashion\": [\"footwear\",\"eyewear\",\"bags\",\"accessories\"],\n",
    "            \"Electronics\": [\"television\",\"iron\",\"refrigerator\",\"mixer grinder\",\"washing machine\"],\n",
    "            \"Health and Wellness\": [\"yoga pants\",\"oil diffuser\",\"razor\",\"reset spray\",\"thermometer\"],\n",
    "            \"Computer and Accessories\": [\"pc\",\"monitor\",\"keyboard\",\"headset\",\"mouse\"],\n",
    "            \"Funiture\": [\"table\",\"armchair\",\"chair\",\"couch\",\"bed frame\"]}\n",
    "print(products)\n",
    "            "
   ]
  },
  {
   "cell_type": "code",
   "execution_count": 7,
   "id": "4e94b14f",
   "metadata": {},
   "outputs": [
    {
     "name": "stdout",
     "output_type": "stream",
     "text": [
      "{'Fashion': ['footwear', 'eyewear', 'bags', 'accessories'], 'Electronics': ['television', 'iron', 'refrigerator', 'mixer grinder', 'washing machine'], 'Health and Wellness': ['yoga pants', 'oil diffuser', 'razor', 'thermometer'], 'Computer and Accessories': ['pc', 'monitor', 'keyboard', 'headset', 'mouse'], 'Funiture': ['table', 'armchair', 'chair', 'couch', 'bed frame']}\n"
     ]
    }
   ],
   "source": [
    "products = {\"Fashion\": [\"footwear\",\"eyewear\",\"bags\",\"accessories\"],\n",
    "            \"Electronics\": [\"television\",\"iron\",\"refrigerator\",\"mixer grinder\",\"washing machine\"],\n",
    "            \"Health and Wellness\": [\"yoga pants\",\"oil diffuser\",\"razor\",\"reset spray\",\"thermometer\"],\n",
    "            \"Computer and Accessories\": [\"pc\",\"monitor\",\"keyboard\",\"headset\",\"mouse\"],\n",
    "            \"Funiture\": [\"table\",\"armchair\",\"chair\",\"couch\",\"bed frame\"]}\n",
    "\n",
    "\n",
    "\n",
    "\n",
    "del products[\"Health and Wellness\"][3]\n",
    "          \n",
    "      \n",
    "print(products)\n",
    "            \n"
   ]
  },
  {
   "cell_type": "code",
   "execution_count": 8,
   "id": "080e7505",
   "metadata": {},
   "outputs": [
    {
     "name": "stdout",
     "output_type": "stream",
     "text": [
      "{'Fashion': ['footwear', 'eyewear', 'bags', 'accessories'], 'Electronics': ['television', 'iron', 'refrigerator', 'mixer grinder', 'washing machine'], 'Health and Wellness': ['yoga pants', 'oil diffuser', 'facial razor', 'thermometer'], 'Computer and Accessories': ['pc', 'monitor', 'keyboard', 'headset', 'mouse'], 'Funiture': ['table', 'armchair', 'chair', 'couch', 'bed frame']}\n"
     ]
    }
   ],
   "source": [
    "products[\"Health and Wellness\"][2] = 'facial razor'\n",
    "print(products)"
   ]
  },
  {
   "cell_type": "code",
   "execution_count": 6,
   "id": "67183856",
   "metadata": {},
   "outputs": [
    {
     "ename": "NameError",
     "evalue": "name 'products' is not defined",
     "output_type": "error",
     "traceback": [
      "\u001b[1;31m---------------------------------------------------------------------------\u001b[0m",
      "\u001b[1;31mNameError\u001b[0m                                 Traceback (most recent call last)",
      "Input \u001b[1;32mIn [6]\u001b[0m, in \u001b[0;36m<cell line: 3>\u001b[1;34m()\u001b[0m\n\u001b[0;32m      1\u001b[0m new_products \u001b[38;5;241m=\u001b[39m (\u001b[38;5;124m'\u001b[39m\u001b[38;5;124munderwear\u001b[39m\u001b[38;5;124m'\u001b[39m,\u001b[38;5;124m'\u001b[39m\u001b[38;5;124mshoes\u001b[39m\u001b[38;5;124m'\u001b[39m,\u001b[38;5;124m'\u001b[39m\u001b[38;5;124mlipgloss\u001b[39m\u001b[38;5;124m'\u001b[39m) \n\u001b[1;32m----> 3\u001b[0m \u001b[43mproducts\u001b[49m[\u001b[38;5;124m'\u001b[39m\u001b[38;5;124mFashion\u001b[39m\u001b[38;5;124m'\u001b[39m]\u001b[38;5;241m.\u001b[39mextend(new_products)\n",
      "\u001b[1;31mNameError\u001b[0m: name 'products' is not defined"
     ]
    }
   ],
   "source": [
    "new_products = ('underwear','shoes','lipgloss') \n",
    "            \n",
    "products['Fashion'].extend(new_products)\n",
    "#type(new_products[\"Fashion\"])\n",
    "\n",
    "\n",
    "               "
   ]
  },
  {
   "cell_type": "code",
   "execution_count": 16,
   "id": "1e100642",
   "metadata": {},
   "outputs": [
    {
     "name": "stdout",
     "output_type": "stream",
     "text": [
      "{'Fashion': ['underwear', 'shoes', 'lipgloss', ['underwear', 'shoes', 'lipgloss']], 'Electronics': ['kettle', 'fryer', 'dish washer', ['kettle', 'fryer', 'dish washer']], 'Health and Wellness': ['yoga pants', 'oil diffuser', 'facial razor', 'thermometer'], 'Computer and Accessories': ['pc', 'monitor', 'keyboard', 'headset', 'mouse'], 'Funiture': ['table', 'armchair', 'chair', 'couch', 'bed frame']}\n"
     ]
    }
   ],
   "source": [
    "print(products)"
   ]
  },
  {
   "cell_type": "code",
   "execution_count": 12,
   "id": "ef8876b0",
   "metadata": {},
   "outputs": [],
   "source": [
    "products.update(new_products)"
   ]
  },
  {
   "cell_type": "code",
   "execution_count": 14,
   "id": "298c9f48",
   "metadata": {},
   "outputs": [
    {
     "data": {
      "text/plain": [
       "{'Fashion': ['underwear', 'shoes', 'lipgloss'],\n",
       " 'Electronics': ['kettle', 'fryer', 'dish washer'],\n",
       " 'Health and Wellness': ['yoga pants',\n",
       "  'oil diffuser',\n",
       "  'facial razor',\n",
       "  'thermometer'],\n",
       " 'Computer and Accessories': ['pc', 'monitor', 'keyboard', 'headset', 'mouse'],\n",
       " 'Funiture': ['table', 'armchair', 'chair', 'couch', 'bed frame']}"
      ]
     },
     "execution_count": 14,
     "metadata": {},
     "output_type": "execute_result"
    }
   ],
   "source": [
    "products"
   ]
  }
 ],
 "metadata": {
  "kernelspec": {
   "display_name": "Python 3 (ipykernel)",
   "language": "python",
   "name": "python3"
  },
  "language_info": {
   "codemirror_mode": {
    "name": "ipython",
    "version": 3
   },
   "file_extension": ".py",
   "mimetype": "text/x-python",
   "name": "python",
   "nbconvert_exporter": "python",
   "pygments_lexer": "ipython3",
   "version": "3.9.12"
  }
 },
 "nbformat": 4,
 "nbformat_minor": 5
}
