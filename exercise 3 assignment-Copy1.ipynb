{
 "cells": [
  {
   "cell_type": "code",
   "execution_count": 1,
   "id": "67c0c844",
   "metadata": {},
   "outputs": [
    {
     "name": "stdout",
     "output_type": "stream",
     "text": [
      "['coby', 'thompson', 'tyler', 'may', 'columbia', 'zack', 'steven', 'olly', 'dean', 'alexander', 'baker', 'josh', 'wood', 'cole']\n"
     ]
    }
   ],
   "source": [
    "player_list = ['coby', 'thompson', 'tyler', 'may', 'columbia', 'zack', 'steven', 'olly', 'dean', 'alexander', 'baker', 'josh', 'wood', 'cole']\n",
    "print(player_list)"
   ]
  },
  {
   "cell_type": "code",
   "execution_count": 2,
   "id": "3477c1ea",
   "metadata": {},
   "outputs": [
    {
     "name": "stdout",
     "output_type": "stream",
     "text": [
      "['coby', 'thompson', 'tyler', 'may', 'columbia', 'zack', 'steven', 'olly', 'dean', 'alexander', 'baker', 'josh', 'wood', 'cole', 'silva']\n"
     ]
    }
   ],
   "source": [
    "player_list.append('silva')\n",
    "print(player_list)"
   ]
  },
  {
   "cell_type": "code",
   "execution_count": 28,
   "id": "16bed4dc",
   "metadata": {},
   "outputs": [
    {
     "name": "stdout",
     "output_type": "stream",
     "text": [
      "The player_list has 18 members\n"
     ]
    }
   ],
   "source": [
    "print(f\"The player_list has {len (player_list)} members\")\n"
   ]
  },
  {
   "cell_type": "code",
   "execution_count": 20,
   "id": "8bed5271",
   "metadata": {},
   "outputs": [
    {
     "name": "stdout",
     "output_type": "stream",
     "text": [
      "['coby', 'thompson', 'tyler', 'may', 'columbus', 'zack', 'steven', 'olly', 'dean', 'alexander', 'baker', 'josh', 'wood', 'cole', 'silva']\n"
     ]
    }
   ],
   "source": [
    "player_list [4] = 'columbus'\n",
    "print(player_list)"
   ]
  },
  {
   "cell_type": "code",
   "execution_count": 25,
   "id": "dbeaac35",
   "metadata": {},
   "outputs": [
    {
     "name": "stdout",
     "output_type": "stream",
     "text": [
      "['coby', 'thompson', 'tyler', 'may', 'columbus', 'zack', 'steven', 'olly', 'dean', 'alexander', 'baker', 'josh', 'wood', 'cole', 'silva', 'messi', 'messi', 'ronaldo']\n"
     ]
    }
   ],
   "source": [
    "new_players = ['messi', 'ronaldo']\n",
    "player_list.extend(new_players)\n",
    "print(player_list)"
   ]
  },
  {
   "cell_type": "code",
   "execution_count": 29,
   "id": "aad8f64d",
   "metadata": {},
   "outputs": [
    {
     "name": "stdout",
     "output_type": "stream",
     "text": [
      "['alexander', 'baker', 'coby', 'cole', 'columbus', 'dean', 'josh', 'may', 'messi', 'messi', 'olly', 'ronaldo', 'silva', 'steven', 'thompson', 'tyler', 'wood', 'zack']\n"
     ]
    }
   ],
   "source": [
    "player_list.sort()\n",
    "print(player_list)"
   ]
  },
  {
   "cell_type": "code",
   "execution_count": 31,
   "id": "d11ecb25",
   "metadata": {},
   "outputs": [
    {
     "name": "stdout",
     "output_type": "stream",
     "text": [
      "['alexander', 'baker', 'coby', 'cole', 'columbus', 'dean', 'josh', 'messi', 'messi', 'olly', 'ronaldo', 'silva', 'steven', 'thompson', 'tyler', 'wood', 'zack']\n"
     ]
    }
   ],
   "source": [
    "player_list.remove('may')\n",
    "print(player_list)"
   ]
  },
  {
   "cell_type": "code",
   "execution_count": 32,
   "id": "6d24b942",
   "metadata": {},
   "outputs": [
    {
     "name": "stdout",
     "output_type": "stream",
     "text": [
      "The player_list now has 17 members\n"
     ]
    }
   ],
   "source": [
    "print(f\"The player_list now has {len (player_list)} members\")"
   ]
  }
 ],
 "metadata": {
  "kernelspec": {
   "display_name": "Python 3 (ipykernel)",
   "language": "python",
   "name": "python3"
  },
  "language_info": {
   "codemirror_mode": {
    "name": "ipython",
    "version": 3
   },
   "file_extension": ".py",
   "mimetype": "text/x-python",
   "name": "python",
   "nbconvert_exporter": "python",
   "pygments_lexer": "ipython3",
   "version": "3.9.12"
  }
 },
 "nbformat": 4,
 "nbformat_minor": 5
}
