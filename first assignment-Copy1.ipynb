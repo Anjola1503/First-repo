{
 "cells": [
  {
   "cell_type": "code",
   "execution_count": 2,
   "id": "80b91bc5",
   "metadata": {},
   "outputs": [
    {
     "name": "stdout",
     "output_type": "stream",
     "text": [
      "Firstname:Anjola\n",
      "Lastname: Kehinde\n",
      "Welcome,Anjola Kehinde\n"
     ]
    }
   ],
   "source": [
    "Firstname = input(\"Firstname:\")\n",
    "Lastname = input(\"Lastname:\")\n",
    "print(\"Welcome,\" + Firstname  + Lastname )"
   ]
  },
  {
   "cell_type": "code",
   "execution_count": 7,
   "id": "d29426fd",
   "metadata": {
    "scrolled": true
   },
   "outputs": [
    {
     "name": "stdout",
     "output_type": "stream",
     "text": [
      "Your new annual salary is:52750000.0 NGN\n",
      "You received a 2750000.0 NGN increase in salary.\n",
      "You will receive 1833333.333333 NGN in retroactive salary.\n",
      "Your new monthly salary is:4395833.33 NGN\n"
     ]
    }
   ],
   "source": [
    "PAY_INCREASE = 5.5/100\n",
    "PAY_PERIOD = 12   # monthly salary =12 times a year\n",
    "\n",
    "oldSalary = 50000000\n",
    "newSalary = (oldSalary * PAY_INCREASE) + oldSalary\n",
    "increaseSalary = newSalary - oldSalary\n",
    "oldMonthlySalary = oldSalary / PAY_PERIOD\n",
    "newMonthlySalary = newSalary / PAY_PERIOD\n",
    "retroSalary = oldMonthlySalary * PAY_INCREASE\n",
    "reccurentRetroSalary = retroSalary * 8\n",
    "\n",
    "\n",
    "print(f\"Your new annual salary is:{newSalary} NGN\")\n",
    "print(f\"You received a {increaseSalary} NGN increase in salary.\")\n",
    "print(f\"You will receive {reccurentRetroSalary:2f} NGN in retroactive salary.\")\n",
    "print(f\"Your new monthly salary is:{newMonthlySalary:.2f} NGN\")\n",
    " "
   ]
  },
  {
   "cell_type": "code",
   "execution_count": null,
   "id": "5b134504",
   "metadata": {},
   "outputs": [],
   "source": []
  },
  {
   "cell_type": "code",
   "execution_count": null,
   "id": "f46f80c5",
   "metadata": {},
   "outputs": [],
   "source": []
  }
 ],
 "metadata": {
  "kernelspec": {
   "display_name": "Python 3 (ipykernel)",
   "language": "python",
   "name": "python3"
  },
  "language_info": {
   "codemirror_mode": {
    "name": "ipython",
    "version": 3
   },
   "file_extension": ".py",
   "mimetype": "text/x-python",
   "name": "python",
   "nbconvert_exporter": "python",
   "pygments_lexer": "ipython3",
   "version": "3.9.12"
  }
 },
 "nbformat": 4,
 "nbformat_minor": 5
}
