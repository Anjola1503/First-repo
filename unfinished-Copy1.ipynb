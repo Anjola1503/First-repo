{
 "cells": [
  {
   "cell_type": "code",
   "execution_count": 11,
   "id": "d4b163f8",
   "metadata": {},
   "outputs": [
    {
     "name": "stdout",
     "output_type": "stream",
     "text": [
      "Enter your weight in kg 30\n",
      "Enter your height 1.9\n",
      "Your BMI is : 8.310249307479225\n",
      "you are underweight\n"
     ]
    }
   ],
   "source": [
    "BMI = 25\n",
    "weight = float(input('Enter your weight in kg '))\n",
    "height = float(input('Enter your height '))\n",
    "BMI = weight / (height)**2\n",
    "print('Your BMI is :', BMI)\n",
    "if BMI >= 25:\n",
    "    print('you are overweight')\n",
    "elif BMI >= 18.5 and 24.9:\n",
    "    print('Your weight is normal')\n",
    "elif BMI< 18:\n",
    "    print('you are underweight')\n",
    "\n",
    "\n",
    "\n"
   ]
  },
  {
   "cell_type": "code",
   "execution_count": 2,
   "id": "fd71eaba",
   "metadata": {},
   "outputs": [
    {
     "ename": "SyntaxError",
     "evalue": "invalid syntax (2544063984.py, line 3)",
     "output_type": "error",
     "traceback": [
      "\u001b[1;36m  Input \u001b[1;32mIn [2]\u001b[1;36m\u001b[0m\n\u001b[1;33m    if Max_number <= 1000:\u001b[0m\n\u001b[1;37m                         ^\u001b[0m\n\u001b[1;31mSyntaxError\u001b[0m\u001b[1;31m:\u001b[0m invalid syntax\n"
     ]
    }
   ],
   "source": [
    "Max_number = 1000\n",
    "Max_number = int(input('Number of people to enter the hall')\n",
    "if Max_number <= 1000:\n",
    "    print(Lectures can hold it is legal)\n",
    "elif Max_number > 1000:\n",
    "    print('Lectures cannot hold as the capacity of student is too much for the hall')\n",
    "    \n",
    "    \n",
    "    \n"
   ]
  },
  {
   "cell_type": "markdown",
   "id": "e4988d94",
   "metadata": {},
   "source": [
    "# "
   ]
  }
 ],
 "metadata": {
  "kernelspec": {
   "display_name": "Python 3 (ipykernel)",
   "language": "python",
   "name": "python3"
  },
  "language_info": {
   "codemirror_mode": {
    "name": "ipython",
    "version": 3
   },
   "file_extension": ".py",
   "mimetype": "text/x-python",
   "name": "python",
   "nbconvert_exporter": "python",
   "pygments_lexer": "ipython3",
   "version": "3.9.12"
  }
 },
 "nbformat": 4,
 "nbformat_minor": 5
}
